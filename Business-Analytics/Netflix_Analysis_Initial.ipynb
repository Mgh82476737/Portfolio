{
 "cells": [
  {
   "cell_type": "markdown",
   "id": "fb1126c2",
   "metadata": {},
   "source": [
    "# 📊 Netflix Content Insights\n",
    "This notebook performs initial cleaning and exploration on Netflix dataset for business analytics."
   ]
  },
  {
   "cell_type": "code",
   "execution_count": null,
   "id": "1b90a95e",
   "metadata": {},
   "outputs": [],
   "source": [
    "import pandas as pd\n",
    "import numpy as np\n",
    "import matplotlib.pyplot as plt\n",
    "import seaborn as sns\n",
    "\n",
    "pd.set_option('display.max_columns', None)\n",
    "sns.set(style=\"whitegrid\")\n"
   ]
  },
  {
   "cell_type": "markdown",
   "id": "2868e6b8",
   "metadata": {},
   "source": [
    "## 🔽 Load Dataset"
   ]
  },
  {
   "cell_type": "code",
   "execution_count": null,
   "id": "94d93abb",
   "metadata": {},
   "outputs": [],
   "source": [
    "df = pd.read_csv('../data/netflix1.csv')\n",
    "df.head()"
   ]
  },
  {
   "cell_type": "markdown",
   "id": "8acb241e",
   "metadata": {},
   "source": [
    "## 📋 Dataset Overview"
   ]
  },
  {
   "cell_type": "code",
   "execution_count": null,
   "id": "30e034d9",
   "metadata": {},
   "outputs": [],
   "source": [
    "df.info()\n",
    "df.describe(include='all')"
   ]
  },
  {
   "cell_type": "markdown",
   "id": "a7a751b2",
   "metadata": {},
   "source": [
    "## 🔍 Unique Values by Column"
   ]
  },
  {
   "cell_type": "code",
   "execution_count": null,
   "id": "3db919d3",
   "metadata": {},
   "outputs": [],
   "source": [
    "for col in ['type', 'rating', 'country']:\n",
    "    print(f\"{col}:\", df[col].unique()[:10], \"\\n\")"
   ]
  },
  {
   "cell_type": "markdown",
   "id": "a92a4e40",
   "metadata": {},
   "source": [
    "## 🗓 Convert `date_added` to datetime and create year/month"
   ]
  },
  {
   "cell_type": "code",
   "execution_count": null,
   "id": "9d11c4fd",
   "metadata": {},
   "outputs": [],
   "source": [
    "df['date_added'] = pd.to_datetime(df['date_added'])\n",
    "df['year_added'] = df['date_added'].dt.year\n",
    "df['month_added'] = df['date_added'].dt.month\n",
    "df[['date_added', 'year_added', 'month_added']].head()"
   ]
  },
  {
   "cell_type": "markdown",
   "id": "61af62d8",
   "metadata": {},
   "source": [
    "## ✅ Preview Cleaned Data (So Far)"
   ]
  },
  {
   "cell_type": "code",
   "execution_count": null,
   "id": "4c9f4915",
   "metadata": {},
   "outputs": [],
   "source": [
    "df.head()"
   ]
  }
 ],
 "metadata": {},
 "nbformat": 4,
 "nbformat_minor": 5
}
