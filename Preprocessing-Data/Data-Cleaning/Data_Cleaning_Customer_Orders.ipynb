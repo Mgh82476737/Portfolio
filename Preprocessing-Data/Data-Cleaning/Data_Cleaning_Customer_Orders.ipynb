{
 "cells": [
  {
   "cell_type": "markdown",
   "id": "c15b63d9",
   "metadata": {},
   "source": [
    "# 🧹 Customer Orders Data Cleaning\n",
    "This notebook demonstrates essential data cleaning steps on a simulated customer order dataset."
   ]
  },
  {
   "cell_type": "code",
   "execution_count": null,
   "id": "2d6ca3b0",
   "metadata": {},
   "outputs": [],
   "source": [
    "import pandas as pd\n",
    "import numpy as np\n",
    "import matplotlib.pyplot as plt\n",
    "import seaborn as sns\n",
    "\n",
    "pd.set_option('display.max_columns', None)\n",
    "sns.set(style=\"whitegrid\")\n"
   ]
  },
  {
   "cell_type": "markdown",
   "id": "6b9153bc",
   "metadata": {},
   "source": [
    "## 🔽 Load the Raw Dataset"
   ]
  },
  {
   "cell_type": "code",
   "execution_count": null,
   "id": "ad4a0160",
   "metadata": {},
   "outputs": [],
   "source": [
    "df = pd.read_csv('../data/raw_customer_orders.csv')\n",
    "df.head()"
   ]
  },
  {
   "cell_type": "markdown",
   "id": "2e5ad334",
   "metadata": {},
   "source": [
    "## 📋 Basic Data Overview"
   ]
  },
  {
   "cell_type": "code",
   "execution_count": null,
   "id": "cc7a98ef",
   "metadata": {},
   "outputs": [],
   "source": [
    "df.info()\n",
    "df.describe(include='all')"
   ]
  },
  {
   "cell_type": "markdown",
   "id": "30621312",
   "metadata": {},
   "source": [
    "## 🔎 Missing & Duplicate Values"
   ]
  },
  {
   "cell_type": "code",
   "execution_count": null,
   "id": "b96d633b",
   "metadata": {},
   "outputs": [],
   "source": [
    "print(\"Missing values per column:\")\n",
    "print(df.isna().sum())\n",
    "print(\"\\nDuplicate rows:\", df.duplicated().sum())"
   ]
  },
  {
   "cell_type": "markdown",
   "id": "fd339d79",
   "metadata": {},
   "source": [
    "## 🛠 Data Cleaning Steps"
   ]
  },
  {
   "cell_type": "code",
   "execution_count": null,
   "id": "480e8f04",
   "metadata": {},
   "outputs": [],
   "source": [
    "# Remove duplicate rows\n",
    "df = df.drop_duplicates()\n",
    "\n",
    "# Drop rows with missing Order ID or Shipping Address\n",
    "df = df.dropna(subset=['Order ID', 'Shipping Address'])\n",
    "\n",
    "# Normalize Customer Name\n",
    "df['Customer Name'] = df['Customer Name'].str.strip().str.title()\n",
    "\n",
    "# Split Customer Name into First and Last Name\n",
    "df[['First Name', 'Last Name']] = df['Customer Name'].str.split(' ', n=1, expand=True)\n",
    "\n",
    "# Move new columns right after Customer Name\n",
    "name_index = df.columns.get_loc(\"Customer Name\")\n",
    "cols = df.columns.tolist()\n",
    "cols.insert(name_index + 1, cols.pop(cols.index(\"First Name\")))\n",
    "cols.insert(name_index + 2, cols.pop(cols.index(\"Last Name\")))\n",
    "df = df[cols]\n",
    "\n",
    "# Drop original Customer Name column\n",
    "df = df.drop(columns=['Customer Name'])\n",
    "\n",
    "# Convert Order Date to datetime\n",
    "df['Order Date'] = pd.to_datetime(df['Order Date'], dayfirst=True, errors='coerce')\n",
    "\n",
    "# Remove negative prices\n",
    "df = df[df['Product Price'] >= 0]\n",
    "\n",
    "# Fill missing quantities with median\n",
    "df['Quantity'] = df['Quantity'].fillna(df['Quantity'].median())\n"
   ]
  },
  {
   "cell_type": "markdown",
   "id": "d4252def",
   "metadata": {},
   "source": [
    "## ✅ Final Cleaned Dataset Preview"
   ]
  },
  {
   "cell_type": "code",
   "execution_count": null,
   "id": "752a58ea",
   "metadata": {},
   "outputs": [],
   "source": [
    "df.head()"
   ]
  },
  {
   "cell_type": "markdown",
   "id": "9691529e",
   "metadata": {},
   "source": [
    "## 💾 Save Cleaned Dataset"
   ]
  },
  {
   "cell_type": "code",
   "execution_count": null,
   "id": "2371ad7b",
   "metadata": {},
   "outputs": [],
   "source": [
    "df.to_csv('../data/clean_customer_orders.csv', index=False)\n",
    "print(\"Cleaned data saved successfully.\")"
   ]
  }
 ],
 "metadata": {},
 "nbformat": 4,
 "nbformat_minor": 5
}
